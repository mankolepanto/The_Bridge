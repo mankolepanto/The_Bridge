{
 "cells": [
  {
   "cell_type": "code",
   "execution_count": null,
   "metadata": {},
   "outputs": [],
   "source": []
  },
  {
   "cell_type": "markdown",
   "metadata": {},
   "source": [
    "df_limp['capacidad_1'] = ''\n",
    "df_limp['unidad_1'] = ''\n",
    "df_limp['tipo_1'] = ''\n",
    "#df_limp['capacidad_2'] = ''\n",
    "#df_limp['unidad_2'] = ''\n",
    "#df_limp['tipo_2'] = ''\n",
    "\n",
    "# Definir una función para separar los componentes\n",
    "def separar_primario(fila):\n",
    "    match = re.match(r\"(\\d+\\.?\\d*)(GB|TB)\\s(.+)\", fila)\n",
    "    if match:\n",
    "        return match.groups()\n",
    "    return (None, None, None)\n",
    "\n",
    "# Aplicar la función a cada fila del DataFrame y asignar los resultados a las nuevas columnas\n",
    "df_limp[['capacidad_1', 'unidad_1', 'tipo_1']] = df_limp['primario'].apply(separar_primario).apply(pd.Series)\n",
    "#df_limp[['capacidad_2', 'unidad_2', 'tipo_2']] = df_limp['secundario'].apply(separar_primario).apply(pd.Series)\n",
    "\n",
    "#df_limp.drop(columns=['primario', 'secundario'], inplace=True)"
   ]
  },
  {
   "cell_type": "markdown",
   "metadata": {},
   "source": [
    "Exploración de datos:\n",
    "\n",
    "Analiza las primeras filas del dataset para familiarizarte con los datos.\n",
    "Revisa los tipos de datos de cada columna para asegurarte de que estén en el formato correcto.\n",
    "Identifica si hay valores faltantes en el dataset y decide cómo manejarlos si es necesario.\n",
    "Realiza un análisis descriptivo de las variables numéricas y categóricas para entender su distribución y variabilidad.\n",
    "Preprocesamiento de datos:\n",
    "\n",
    "Elimina las columnas que no sean relevantes para el análisis de regresión o que contengan información redundante.\n",
    "Convierte las variables categóricas en variables dummy o variables indicadoras utilizando técnicas como one-hot encoding.\n",
    "Asegúrate de que todas las variables estén en el mismo rango de escala, especialmente si estás utilizando métodos que dependen de la escala, como la regresión lineal.\n",
    "\n",
    "\n",
    "División de datos:\n",
    "\n",
    "Separa el conjunto de datos en variables predictoras (X) y la variable objetivo (y). En este caso, la variable objetivo sería el precio en euros.\n",
    "Divide el conjunto de datos en conjuntos de entrenamiento y prueba. El conjunto de entrenamiento se utilizará para entrenar el modelo, mientras que el conjunto de prueba se utilizará para evaluar su rendimiento.\n",
    "Entrenamiento del modelo:\n",
    "\n",
    "Utiliza una biblioteca de aprendizaje automático, como scikit-learn en Python, para entrenar un modelo de regresión lineal múltiple con los datos de entrenamiento.\n",
    "Ajusta el modelo a los datos de entrenamiento utilizando el método fit.\n",
    "\n",
    "\n",
    "Evaluación del modelo:\n",
    "\n",
    "Evalúa el rendimiento del modelo utilizando métricas adecuadas para problemas de regresión, como el error cuadrático medio (MSE) o el coeficiente de determinación (R^2).\n",
    "Realiza predicciones utilizando el conjunto de prueba y calcula las métricas de evaluación sobre este conjunto.\n",
    "Ajuste del modelo (opcional):\n",
    "\n",
    "Si el rendimiento del modelo no es satisfactorio, considera ajustar hiperparámetros del modelo, como la regularización, o prueba con otros algoritmos de regresión.\n",
    "Interpretación del modelo:\n",
    "\n",
    "Una vez que estés satisfecho con el rendimiento del modelo, interpreta los coeficientes de regresión para comprender la relación entre las variables predictoras y la variable objetivo.\n",
    "Examina la importancia relativa de cada variable en la predicción del precio de los laptops.\n",
    "Despliegue del modelo (opcional):\n",
    "\n",
    "Si planeas usar el modelo en producción, despliégalo en un entorno apropiado y documenta su funcionamiento y requisitos de entrada/salida."
   ]
  },
  {
   "cell_type": "markdown",
   "metadata": {},
   "source": [
    "Regresión lineal: Este es el algoritmo de regresión más simple y ampliamente utilizado. Asume una relación lineal entre las características de entrada y la variable objetivo (en este caso, el precio).\n",
    "\n",
    "Regresión de bosques aleatorios (Random Forest Regression): Este es un método de ensamblado que combina múltiples árboles de decisión para hacer predicciones. Es robusto y puede manejar datos heterogéneos y no lineales.\n",
    "\n",
    "Regresión de vectores de soporte (Support Vector Regression, SVR): A diferencia de la regresión lineal, SVR puede capturar relaciones no lineales entre las variables de entrada y la variable objetivo. Utiliza vectores de soporte en un espacio de alta dimensión para realizar la regresión."
   ]
  },
  {
   "cell_type": "code",
   "execution_count": null,
   "metadata": {},
   "outputs": [],
   "source": []
  },
  {
   "cell_type": "markdown",
   "metadata": {},
   "source": [
    "describe dataset\n",
    "exploratory analisis\n",
    "correlacion\n",
    "multicolinearidad\n",
    "drop variables\n",
    "fit model\n",
    "test model "
   ]
  },
  {
   "cell_type": "code",
   "execution_count": null,
   "metadata": {},
   "outputs": [],
   "source": []
  }
 ],
 "metadata": {
  "language_info": {
   "name": "python"
  }
 },
 "nbformat": 4,
 "nbformat_minor": 2
}
