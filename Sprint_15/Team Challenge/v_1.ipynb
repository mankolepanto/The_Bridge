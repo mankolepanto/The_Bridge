{
 "cells": [
  {
   "cell_type": "code",
   "execution_count": 65,
   "metadata": {},
   "outputs": [],
   "source": [
    "import pandas as pd\n",
    "from sklearn.preprocessing import OneHotEncoder, StandardScaler\n",
    "from sklearn.model_selection import train_test_split\n",
    "from sklearn.linear_model import Ridge, Lasso\n",
    "from sklearn.metrics import mean_squared_error, r2_score"
   ]
  },
  {
   "cell_type": "code",
   "execution_count": 72,
   "metadata": {},
   "outputs": [],
   "source": [
    "df_1 = pd.read_csv('Data/train.csv')"
   ]
  },
  {
   "cell_type": "code",
   "execution_count": 73,
   "metadata": {},
   "outputs": [
    {
     "name": "stdout",
     "output_type": "stream",
     "text": [
      "<class 'pandas.core.frame.DataFrame'>\n",
      "Index: 851 entries, 0 to 911\n",
      "Data columns (total 15 columns):\n",
      " #   Column            Non-Null Count  Dtype  \n",
      "---  ------            --------------  -----  \n",
      " 0   id                851 non-null    int64  \n",
      " 1   laptop_ID         851 non-null    int64  \n",
      " 2   Company           851 non-null    object \n",
      " 3   Product           851 non-null    object \n",
      " 4   TypeName          851 non-null    object \n",
      " 5   Inches            851 non-null    float64\n",
      " 6   ScreenResolution  851 non-null    object \n",
      " 7   Ram               851 non-null    object \n",
      " 8   Memory            851 non-null    object \n",
      " 9   Gpu               851 non-null    object \n",
      " 10  OpSys             851 non-null    object \n",
      " 11  Weight            851 non-null    object \n",
      " 12  Price_euros       851 non-null    float64\n",
      " 13  Modelo_CPU        851 non-null    object \n",
      " 14  Velocidad_CPU     851 non-null    float64\n",
      "dtypes: float64(3), int64(2), object(10)\n",
      "memory usage: 106.4+ KB\n"
     ]
    }
   ],
   "source": [
    "df = df_1.copy ()\n",
    "\n",
    "df [['Modelo_CPU', 'Velocidad_CPU']] = df['Cpu'].str.extract(r'(.+)\\s+(\\d+\\.\\d+GHz)')\n",
    "\n",
    "df['Velocidad_CPU'] = df['Velocidad_CPU'].str.extract(r'(\\d+\\.\\d+)').astype(float)\n",
    "\n",
    "# Eliminar la columna original \"Cpu\"\n",
    "df.drop(columns=['Cpu'], inplace=True)\n",
    "\n",
    "# Imprimir las primeras filas para verificar\n",
    "\n",
    "df = df.dropna()\n",
    "# Imprimir las primeras filas para verificar\n",
    "df.info ()"
   ]
  },
  {
   "cell_type": "code",
   "execution_count": 76,
   "metadata": {},
   "outputs": [
    {
     "name": "stderr",
     "output_type": "stream",
     "text": [
      "C:\\Users\\pobla\\AppData\\Local\\Temp\\ipykernel_15920\\2575767217.py:7: SettingWithCopyWarning: \n",
      "A value is trying to be set on a copy of a slice from a DataFrame.\n",
      "Try using .loc[row_indexer,col_indexer] = value instead\n",
      "\n",
      "See the caveats in the documentation: https://pandas.pydata.org/pandas-docs/stable/user_guide/indexing.html#returning-a-view-versus-a-copy\n",
      "  df_subset['Ram'] = df_subset['Ram'].str.replace('GB', '').astype(int)\n"
     ]
    },
    {
     "ename": "KeyError",
     "evalue": "['Price_euros']",
     "output_type": "error",
     "traceback": [
      "\u001b[1;31m---------------------------------------------------------------------------\u001b[0m",
      "\u001b[1;31mKeyError\u001b[0m                                  Traceback (most recent call last)",
      "\u001b[1;32m~\\AppData\\Local\\Temp\\ipykernel_15920\\2575767217.py\u001b[0m in \u001b[0;36m?\u001b[1;34m()\u001b[0m\n\u001b[0;32m     26\u001b[0m \u001b[0mscaler\u001b[0m \u001b[1;33m=\u001b[0m \u001b[0mStandardScaler\u001b[0m\u001b[1;33m(\u001b[0m\u001b[1;33m)\u001b[0m\u001b[1;33m\u001b[0m\u001b[1;33m\u001b[0m\u001b[0m\n\u001b[0;32m     27\u001b[0m \u001b[0mdf_subset\u001b[0m\u001b[1;33m[\u001b[0m\u001b[1;33m[\u001b[0m\u001b[1;34m'Ram'\u001b[0m\u001b[1;33m,\u001b[0m \u001b[1;34m'Inches'\u001b[0m\u001b[1;33m,\u001b[0m \u001b[1;34m'Velocidad_CPU'\u001b[0m\u001b[1;33m]\u001b[0m\u001b[1;33m]\u001b[0m \u001b[1;33m=\u001b[0m \u001b[0mscaler\u001b[0m\u001b[1;33m.\u001b[0m\u001b[0mfit_transform\u001b[0m\u001b[1;33m(\u001b[0m\u001b[0mdf_subset\u001b[0m\u001b[1;33m[\u001b[0m\u001b[1;33m[\u001b[0m\u001b[1;34m'Ram'\u001b[0m\u001b[1;33m,\u001b[0m \u001b[1;34m'Inches'\u001b[0m\u001b[1;33m,\u001b[0m \u001b[1;34m'Velocidad_CPU'\u001b[0m\u001b[1;33m]\u001b[0m\u001b[1;33m]\u001b[0m\u001b[1;33m)\u001b[0m\u001b[1;33m\u001b[0m\u001b[1;33m\u001b[0m\u001b[0m\n\u001b[0;32m     28\u001b[0m \u001b[1;33m\u001b[0m\u001b[0m\n\u001b[0;32m     29\u001b[0m \u001b[1;31m# Eliminar filas con valores faltantes en la columna 'Price_euros'\u001b[0m\u001b[1;33m\u001b[0m\u001b[1;33m\u001b[0m\u001b[0m\n\u001b[1;32m---> 30\u001b[1;33m \u001b[0mdf_subset\u001b[0m\u001b[1;33m.\u001b[0m\u001b[0mdropna\u001b[0m\u001b[1;33m(\u001b[0m\u001b[0msubset\u001b[0m\u001b[1;33m=\u001b[0m\u001b[1;33m[\u001b[0m\u001b[1;34m'Price_euros'\u001b[0m\u001b[1;33m]\u001b[0m\u001b[1;33m,\u001b[0m \u001b[0minplace\u001b[0m\u001b[1;33m=\u001b[0m\u001b[1;32mTrue\u001b[0m\u001b[1;33m)\u001b[0m\u001b[1;33m\u001b[0m\u001b[1;33m\u001b[0m\u001b[0m\n\u001b[0m\u001b[0;32m     31\u001b[0m \u001b[1;33m\u001b[0m\u001b[0m\n\u001b[0;32m     32\u001b[0m \u001b[1;31m# Preparar los datos para la regresión lineal múltiple\u001b[0m\u001b[1;33m\u001b[0m\u001b[1;33m\u001b[0m\u001b[0m\n\u001b[0;32m     33\u001b[0m \u001b[0mX\u001b[0m \u001b[1;33m=\u001b[0m \u001b[0mdf_subset\u001b[0m\u001b[1;33m\u001b[0m\u001b[1;33m\u001b[0m\u001b[0m\n",
      "\u001b[1;32mc:\\Users\\pobla\\AppData\\Local\\Programs\\Python\\Python310\\lib\\site-packages\\pandas\\core\\frame.py\u001b[0m in \u001b[0;36m?\u001b[1;34m(self, axis, how, thresh, subset, inplace, ignore_index)\u001b[0m\n\u001b[0;32m   6653\u001b[0m             \u001b[0max\u001b[0m \u001b[1;33m=\u001b[0m \u001b[0mself\u001b[0m\u001b[1;33m.\u001b[0m\u001b[0m_get_axis\u001b[0m\u001b[1;33m(\u001b[0m\u001b[0magg_axis\u001b[0m\u001b[1;33m)\u001b[0m\u001b[1;33m\u001b[0m\u001b[1;33m\u001b[0m\u001b[0m\n\u001b[0;32m   6654\u001b[0m             \u001b[0mindices\u001b[0m \u001b[1;33m=\u001b[0m \u001b[0max\u001b[0m\u001b[1;33m.\u001b[0m\u001b[0mget_indexer_for\u001b[0m\u001b[1;33m(\u001b[0m\u001b[0msubset\u001b[0m\u001b[1;33m)\u001b[0m\u001b[1;33m\u001b[0m\u001b[1;33m\u001b[0m\u001b[0m\n\u001b[0;32m   6655\u001b[0m             \u001b[0mcheck\u001b[0m \u001b[1;33m=\u001b[0m \u001b[0mindices\u001b[0m \u001b[1;33m==\u001b[0m \u001b[1;33m-\u001b[0m\u001b[1;36m1\u001b[0m\u001b[1;33m\u001b[0m\u001b[1;33m\u001b[0m\u001b[0m\n\u001b[0;32m   6656\u001b[0m             \u001b[1;32mif\u001b[0m \u001b[0mcheck\u001b[0m\u001b[1;33m.\u001b[0m\u001b[0many\u001b[0m\u001b[1;33m(\u001b[0m\u001b[1;33m)\u001b[0m\u001b[1;33m:\u001b[0m\u001b[1;33m\u001b[0m\u001b[1;33m\u001b[0m\u001b[0m\n\u001b[1;32m-> 6657\u001b[1;33m                 \u001b[1;32mraise\u001b[0m \u001b[0mKeyError\u001b[0m\u001b[1;33m(\u001b[0m\u001b[0mnp\u001b[0m\u001b[1;33m.\u001b[0m\u001b[0marray\u001b[0m\u001b[1;33m(\u001b[0m\u001b[0msubset\u001b[0m\u001b[1;33m)\u001b[0m\u001b[1;33m[\u001b[0m\u001b[0mcheck\u001b[0m\u001b[1;33m]\u001b[0m\u001b[1;33m.\u001b[0m\u001b[0mtolist\u001b[0m\u001b[1;33m(\u001b[0m\u001b[1;33m)\u001b[0m\u001b[1;33m)\u001b[0m\u001b[1;33m\u001b[0m\u001b[1;33m\u001b[0m\u001b[0m\n\u001b[0m\u001b[0;32m   6658\u001b[0m             \u001b[0magg_obj\u001b[0m \u001b[1;33m=\u001b[0m \u001b[0mself\u001b[0m\u001b[1;33m.\u001b[0m\u001b[0mtake\u001b[0m\u001b[1;33m(\u001b[0m\u001b[0mindices\u001b[0m\u001b[1;33m,\u001b[0m \u001b[0maxis\u001b[0m\u001b[1;33m=\u001b[0m\u001b[0magg_axis\u001b[0m\u001b[1;33m)\u001b[0m\u001b[1;33m\u001b[0m\u001b[1;33m\u001b[0m\u001b[0m\n\u001b[0;32m   6659\u001b[0m \u001b[1;33m\u001b[0m\u001b[0m\n\u001b[0;32m   6660\u001b[0m         \u001b[1;32mif\u001b[0m \u001b[0mthresh\u001b[0m \u001b[1;32mis\u001b[0m \u001b[1;32mnot\u001b[0m \u001b[0mlib\u001b[0m\u001b[1;33m.\u001b[0m\u001b[0mno_default\u001b[0m\u001b[1;33m:\u001b[0m\u001b[1;33m\u001b[0m\u001b[1;33m\u001b[0m\u001b[0m\n",
      "\u001b[1;31mKeyError\u001b[0m: ['Price_euros']"
     ]
    }
   ],
   "source": [
    "\n",
    "\n",
    "# Resto del código para dividir los datos, entrenar y evaluar los modelos...\n",
    "\n",
    "\n",
    "df_subset = df[['Ram', 'Inches', 'Gpu', 'Modelo_CPU', 'Velocidad_CPU']]\n",
    "\n",
    "# Procesar la columna 'Ram'\n",
    "df_subset['Ram'] = df_subset['Ram'].str.replace('GB', '').astype(int)\n",
    "\n",
    "# Codificar la variable categórica 'Gpu' con OneHotEncoding\n",
    "onehot_encoder_gpu = OneHotEncoder(sparse_output=False)\n",
    "gpu_onehot = onehot_encoder_gpu.fit_transform(df_subset[['Gpu']])\n",
    "\n",
    "# Convertir el resultado de OneHotEncoding en un DataFrame y unirlo con el DataFrame original\n",
    "gpu_df = pd.DataFrame(gpu_onehot, columns=onehot_encoder_gpu.get_feature_names_out(['Gpu']))\n",
    "df_subset = pd.concat([df_subset, gpu_df], axis=1).drop(columns=['Gpu'])\n",
    "\n",
    "# Codificar la variable categórica 'Modelo_CPU' con OneHotEncoding\n",
    "onehot_encoder_cpu = OneHotEncoder(sparse_output=False)\n",
    "cpu_onehot = onehot_encoder_cpu.fit_transform(df_subset[['Modelo_CPU']])\n",
    "\n",
    "# Convertir el resultado de OneHotEncoding en un DataFrame y unirlo con el DataFrame original\n",
    "cpu_df = pd.DataFrame(cpu_onehot, columns=onehot_encoder_cpu.get_feature_names_out(['Modelo_CPU']))\n",
    "df_subset = pd.concat([df_subset, cpu_df], axis=1).drop(columns=['Modelo_CPU'])\n",
    "\n",
    "# Escalar las variables 'Ram', 'Inches' y 'Velocidad_CPU'\n",
    "scaler = StandardScaler()\n",
    "df_subset[['Ram', 'Inches', 'Velocidad_CPU']] = scaler.fit_transform(df_subset[['Ram', 'Inches', 'Velocidad_CPU']])\n",
    "\n",
    "# Eliminar filas con valores faltantes en la columna 'Price_euros'\n",
    "df_subset.dropna(subset=['Price_euros'], inplace=True)\n",
    "\n",
    "# Preparar los datos para la regresión lineal múltiple\n",
    "X = df_subset\n",
    "y = df['Price_euros']\n",
    "\n",
    "# Resto del código para dividir los datos, entrenar y evaluar los modelos...\n",
    "\n",
    "# Preparar los datos para la regresión lineal múltiple\n",
    "#X = df_subset # Las variables independientes (Ram, Inches, Gpu, Modelo_CPU y Velocidad_CPU)\n",
    "#y = df['Price_euros']                        # La variable dependiente\n",
    "\n",
    "# Dividir los datos en conjuntos de entrenamiento y prueba\n",
    "X_train, X_test, y_train, y_test = train_test_split(X, y, test_size=0.2, random_state=42)\n",
    "\n",
    "# Crear y entrenar el modelo de Ridge\n",
    "ridge_model = Ridge(alpha=1.0)  # Puedes ajustar el valor de alpha según sea necesario\n",
    "ridge_model.fit(X_train, y_train)\n",
    "\n",
    "# Hacer predicciones\n",
    "y_pred_ridge = ridge_model.predict(X_test)\n",
    "\n",
    "# Evaluar el modelo de Ridge\n",
    "mse_ridge = mean_squared_error(y_test, y_pred_ridge)\n",
    "r2_ridge = r2_score(y_test, y_pred_ridge)\n",
    "\n",
    "print(\"Ridge Regression:\")\n",
    "print(f\"Mean Squared Error: {mse_ridge}\")\n",
    "print(f\"R² Score: {r2_ridge}\")\n",
    "\n",
    "# Crear y entrenar el modelo de Lasso\n",
    "lasso_model = Lasso(alpha=1.0)  # Puedes ajustar el valor de alpha según sea necesario\n",
    "lasso_model.fit(X_train, y_train)\n",
    "\n",
    "# Hacer predicciones\n",
    "y_pred_lasso = lasso_model.predict(X_test)\n",
    "\n",
    "# Evaluar el modelo de Lasso\n",
    "mse_lasso = mean_squared_error(y_test, y_pred_lasso)\n",
    "r2_lasso = r2_score(y_test, y_pred_lasso)\n",
    "\n",
    "print(\"\\nLasso Regression:\")\n",
    "print(f\"Mean Squared Error: {mse_lasso}\")\n",
    "print(f\"R² Score: {r2_lasso}\")"
   ]
  },
  {
   "cell_type": "code",
   "execution_count": null,
   "metadata": {},
   "outputs": [],
   "source": []
  }
 ],
 "metadata": {
  "kernelspec": {
   "display_name": "Python 3",
   "language": "python",
   "name": "python3"
  },
  "language_info": {
   "codemirror_mode": {
    "name": "ipython",
    "version": 3
   },
   "file_extension": ".py",
   "mimetype": "text/x-python",
   "name": "python",
   "nbconvert_exporter": "python",
   "pygments_lexer": "ipython3",
   "version": "3.10.11"
  }
 },
 "nbformat": 4,
 "nbformat_minor": 2
}
