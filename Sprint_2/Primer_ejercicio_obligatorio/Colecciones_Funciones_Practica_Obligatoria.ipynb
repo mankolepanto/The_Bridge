{
 "cells": [
  {
   "cell_type": "markdown",
   "metadata": {},
   "source": [
    "## PRACTICA OBLIGATORIA: COLECCIONES Y FUNCIONES"
   ]
  },
  {
   "cell_type": "markdown",
   "metadata": {},
   "source": [
    "* La práctica obligatoria de esta unidad consiste varios ejercicios de programación libre a completar sobre Colecciones y Funciones. Descarga este notebook en tu ordenador y trabaja en local.  \n",
    "* Recuerda que debes subirla a tu repositorio personal antes de la sesión en vivo para que puntúe adecuadamente y puedas participar en dicha sesión.  \n",
    "* Recuerda también que no es necesario que esté perfecta, sólo es necesario que se vea el esfuerzo. \n",
    "* Esta práctica se resolverá en la sesión en vivo correspondiente y la solución se publicará en el repo del curso. "
   ]
  },
  {
   "cell_type": "markdown",
   "metadata": {},
   "source": [
    "### Contenidos"
   ]
  },
  {
   "cell_type": "markdown",
   "metadata": {},
   "source": [
    "## Ejercicio 1\n",
    "Eleva todos los elementos de la lista al cuadrado\n",
    "> ```ejer_2 = [1,2,3,4,5]```"
   ]
  },
  {
   "cell_type": "code",
   "execution_count": 79,
   "metadata": {},
   "outputs": [
    {
     "name": "stdout",
     "output_type": "stream",
     "text": [
      "En la posición 0 el resultado al cuadrado es: 1\n",
      "En la posición 1 el resultado al cuadrado es: 4\n",
      "En la posición 2 el resultado al cuadrado es: 9\n",
      "En la posición 3 el resultado al cuadrado es: 16\n",
      "En la posición 4 el resultado al cuadrado es: 25\n"
     ]
    }
   ],
   "source": [
    "lista_numeros = [1,2,3,4,5]\n",
    "\n",
    "for posicion, numero in enumerate (lista_numeros):\n",
    "    numero **=2\n",
    "    print (f\"En la posición {posicion} el resultado al cuadrado es: {numero}\")\n",
    "\n"
   ]
  },
  {
   "cell_type": "markdown",
   "metadata": {},
   "source": [
    "## Ejercicio 2\n",
    "Haz un programa que detecte todos los duplicados de un elemento en una lista:\n",
    "* Utiliza una variable duplicado para asignarle el valor del elemento del que queremos encontrar todos sus duplicados. \n",
    "* El programa debe devolver todos los índices de los elementos duplicados.\n",
    "* Aplícalo para encontrar los duplicados de \"un\", \"es\" y \"binario\" de:  \n",
    "\n",
    ">```ejer_3 = [\"Un\", \"árbol\", \"binario\", \"es\", \"una\", \"estructura\", \"de\", \"un\", \"tipo\", \"particular\", \"a\", \"veces\", \"no\", \"es\", \"ni\", \"binario\"]```\n"
   ]
  },
  {
   "cell_type": "code",
   "execution_count": 80,
   "metadata": {},
   "outputs": [
    {
     "name": "stdout",
     "output_type": "stream",
     "text": [
      "La palabra 'un' se repite en las posiciones [0, 7] por lo que aparece 2 veces\n",
      "La palabra 'es' se repite en las posiciones [3, 13] por lo que aparece 2 veces\n",
      "La palabra 'binario' se repite en las posiciones [2, 15] por lo que aparece 2 veces\n"
     ]
    }
   ],
   "source": [
    "frase = [\"Un\", \"árbol\", \"binario\", \"es\", \"una\", \"estructura\", \"de\", \"un\", \"tipo\", \"particular\", \"a\", \"veces\", \"no\", \"es\", \"ni\", \"binario\"]\n",
    "\n",
    "# Creamos las variables para guardar las posiciones en las que aparecen las palabras pedidas anteriormente\n",
    "\n",
    "posicion_1 = []\n",
    "posicion_2 = []\n",
    "posicion_3 = []\n",
    "\n",
    "# Iniciamos un bucle for para conocer en que indice encontramos las palabras y las añadimos a las variables anteriores\n",
    "for llave,valor in enumerate (frase):\n",
    "    if valor.lower () == \"un\":\n",
    "        posicion_1.append (llave)\n",
    "    elif valor.lower  () == \"es\":\n",
    "        posicion_2.append (llave)\n",
    "    elif valor.lower () == \"binario\":\n",
    "        posicion_3.append (llave)\n",
    "# Imprimimos el resultado por pantala\n",
    "        \n",
    "print (f\"La palabra 'un' se repite en las posiciones {posicion_1} por lo que aparece {len(posicion_1)} veces\")\n",
    "print (f\"La palabra 'es' se repite en las posiciones {posicion_2} por lo que aparece {len(posicion_2)} veces\")\n",
    "print (f\"La palabra 'binario' se repite en las posiciones {posicion_3} por lo que aparece {len(posicion_3)} veces\")\n",
    "\n",
    "    "
   ]
  },
  {
   "cell_type": "markdown",
   "metadata": {},
   "source": [
    "## Ejercicio 3\n",
    "1. ¿Cuántas veces se repite el 3 en la siguiente tupla?\n",
    "2. Crea una tupla nueva con los elementos desde la posicion 5 a la 10.\n",
    "3. ¿Cuántos elementos tiene la tupla `ejer_9`?\n",
    "> ```ejer_9 = (3, 20, 3, 47, 19, 3, 29, 45, 67, 78, 90, 3, 3, 5, 2, 4, 7, 9, 4, 2, 4, 3, 3, 4, 6, 7)```"
   ]
  },
  {
   "cell_type": "code",
   "execution_count": 9,
   "metadata": {},
   "outputs": [
    {
     "name": "stdout",
     "output_type": "stream",
     "text": [
      "El numero 3 se repite:  7\n",
      "(19, 3, 29, 45, 67, 78)\n",
      "26 elementos\n"
     ]
    }
   ],
   "source": [
    "lista_num = (3, 20, 3, 47, 19, 3, 29, 45, 67, 78, 90, 3, 3, 5, 2, 4, 7, 9, 4, 2, 4, 3, 3, 4, 6, 7)\n",
    "\n",
    "print (\"El numero 3 se repite: \", lista_num.count(3)) # Utilizamos el metodo count para contar la ocurrencia del numero indicado\n",
    "\n",
    "tupla_nueva = lista_num [4:10] # creamos una nueva tupla desde la posicion 5 a la 10\n",
    "print (tupla_nueva)\n",
    "\n",
    "print (len(lista_num),\"elementos\") # Cantidad de elementos de la tupla lista_num"
   ]
  },
  {
   "cell_type": "markdown",
   "metadata": {},
   "source": [
    "## Ejercicio 4\n",
    "Comprueba si el numero 60 esta en la tupla del ejercicio 3"
   ]
  },
  {
   "cell_type": "code",
   "execution_count": 10,
   "metadata": {},
   "outputs": [
    {
     "name": "stdout",
     "output_type": "stream",
     "text": [
      "El numero 60 no esta\n"
     ]
    }
   ],
   "source": [
    "# Utilizamos un condicional para comprobar si encontramos el número en la tupla anterior\n",
    "if 60 in lista_num:\n",
    "    print (\"El numero 60 esta\")\n",
    "else:\n",
    "    print (\"El numero 60 no esta\")"
   ]
  },
  {
   "cell_type": "markdown",
   "metadata": {},
   "source": [
    "## Ejercicio 5\n",
    "1. Convierte la tupla del ejercicio 3 en una lista\n",
    "2. Convierte la tupla del ejercicio 3 en un set\n",
    "3. Convierte la tupla del ejercicio 3 en un diccionario. Usa también los indices"
   ]
  },
  {
   "cell_type": "code",
   "execution_count": 18,
   "metadata": {},
   "outputs": [
    {
     "name": "stdout",
     "output_type": "stream",
     "text": [
      "<class 'list'>\n",
      "<class 'tuple'>\n",
      "<class 'dict'>\n"
     ]
    }
   ],
   "source": [
    "# Creamos una lista desde la tupla anterior\n",
    "lista_antes_tupla = list (lista_num)\n",
    "print  (type(lista_antes_tupla))\n",
    "\n",
    "# Creamos un set \n",
    "set_antes_tupla = set (lista_num)\n",
    "print (type(lista_num))\n",
    "\n",
    "# Creamos un diccionario\n",
    "dic_antes_tupla = {}\n",
    "for llave, valor in enumerate (lista_num):\n",
    "    dic_antes_tupla [llave] = valor\n",
    "\n",
    "print (type(dic_antes_tupla))"
   ]
  },
  {
   "cell_type": "markdown",
   "metadata": {},
   "source": [
    "## Ejercicio 6\n",
    "Multiplica todos los valores del diccionario\n",
    "> ```ejer_6 = {1: 11, 2: 22, 3: 33, 4: 44, 5: 55}```"
   ]
  },
  {
   "cell_type": "code",
   "execution_count": 82,
   "metadata": {},
   "outputs": [
    {
     "name": "stdout",
     "output_type": "stream",
     "text": [
      " El resultado de multiplicar 11 por 2 da como resultado 22\n",
      " El resultado de multiplicar 22 por 2 da como resultado 44\n",
      " El resultado de multiplicar 33 por 2 da como resultado 66\n",
      " El resultado de multiplicar 44 por 2 da como resultado 88\n",
      " El resultado de multiplicar 55 por 2 da como resultado 110\n"
     ]
    }
   ],
   "source": [
    "valores_dicc = {1: 11, 2: 22, 3: 33, 4: 44, 5: 55}\n",
    "\n",
    "for i in valores_dicc.values ():\n",
    "    factor = 2\n",
    "    multiplicado = i * factor\n",
    "    print (f\" El resultado de multiplicar {i} por {factor} da como resultado {multiplicado}\")"
   ]
  },
  {
   "cell_type": "markdown",
   "metadata": {},
   "source": [
    "## Ejercicio 7\n",
    "\n",
    "1. Crea un diccionario que describa un libro, con los siguientes campos o claves: \"titulo\",\"autor\",\"idioma original\",\"año de publicación\".\n",
    "2. Crea un a lista, llamada librería. \n",
    "3. Añade cuatro libros a tu elección a la librería."
   ]
  },
  {
   "cell_type": "code",
   "execution_count": 1,
   "metadata": {},
   "outputs": [
    {
     "name": "stdout",
     "output_type": "stream",
     "text": [
      "({'titulo': 'Cien años de soledad', 'autor': 'Gabriel García Márquez', 'idioma': 'español', 'año de publicacion': 1967}, {'titulo': 'Matar a un ruiseñor', 'autor': 'Harper Lee', 'idioma': 'inglés', 'año de publicacion': 1960}, {'titulo': '1984', 'autor': 'George Orwell', 'idioma': 'inglés', 'año de publicacion': 1949}, {'titulo': 'El señor de los anillos', 'autor': 'J.R.R. Tolkien', 'idioma': 'español', 'año de publicacion': 1954})\n",
      "<class 'tuple'>\n"
     ]
    }
   ],
   "source": [
    "# Creamos las 4 librerias con sus respectivas llaves y valore\n",
    "\n",
    "libro_1 = {\"titulo\": \"Cien años de soledad\", \"autor\": \"Gabriel García Márquez\", \"idioma\": \"español\",\"año de publicacion\": 1967}\n",
    "libro_2 = {\"titulo\": \"Matar a un ruiseñor\", \"autor\": \"Harper Lee\", \"idioma\": \"inglés\", \"año de publicacion\": 1960}\n",
    "libro_3 = {\"titulo\": \"1984\", \"autor\": \"George Orwell\",\"idioma\": \"inglés\",\"año de publicacion\": 1949}\n",
    "libro_4 = {\"titulo\": \"El señor de los anillos\",\"autor\": \"J.R.R. Tolkien\",\"idioma\": \"español\",\"año de publicacion\": 1954}\n",
    "\n",
    "# creamos la lista\n",
    "libreria = []\n",
    "\n",
    "# añadimos a la lista anterior los diccionarios\n",
    "libreria = libro_1,libro_2,libro_3,libro_4\n",
    "\n",
    "print (libreria)\n",
    "print (type(libreria))"
   ]
  },
  {
   "cell_type": "markdown",
   "metadata": {},
   "source": [
    "## Ejercicio 8\n",
    "Modifica los valores del idioma de todos los libros del ejercicio anterior para que sea \"esperanto\"\n"
   ]
  },
  {
   "cell_type": "code",
   "execution_count": 36,
   "metadata": {},
   "outputs": [
    {
     "name": "stdout",
     "output_type": "stream",
     "text": [
      "({'titulo': 'Cien años de soledad', 'autor': 'Gabriel García Márquez', 'idioma': 'esperanto', 'año de publicacion': 1967}, {'titulo': 'To Kill a Mockingbird', 'autor': 'Harper Lee', 'idioma': 'esperanto', 'año de publicacion': 1960}, {'titulo': '1984', 'autor': 'George Orwell', 'idioma': 'esperanto', 'año de publicacion': 1949}, {'titulo': 'El señor de los anillos', 'autor': 'J.R.R. Tolkien', 'idioma': 'esperanto', 'año de publicacion': 1954})\n"
     ]
    }
   ],
   "source": [
    "# Con un bucle for iteramos sobre todas las llaves de los diccionarios en la lista que se denominan idioma\n",
    "for idi in libreria:\n",
    "    idi [\"idioma\"] = \"esperanto\"\n",
    "print (libreria)\n"
   ]
  },
  {
   "cell_type": "markdown",
   "metadata": {},
   "source": [
    "## Ejercicio 9\n",
    "1. Escribe un programa que dada una variable titulo busque los libros que hay en la librería con ese título. Si no se encuentra debe devolver el mensaje `Ese no lo tengo, ¿mola?`\n",
    "2. Pruena que el programa con uno de tus libros y con otro que no contenga tu librería."
   ]
  },
  {
   "cell_type": "code",
   "execution_count": 38,
   "metadata": {},
   "outputs": [
    {
     "name": "stdout",
     "output_type": "stream",
     "text": [
      "Está disponible en nuestra librería\n"
     ]
    }
   ],
   "source": [
    "# Pedimos al usuario que introduzca el titulo del libro\n",
    "busca_un_libro = str(input(\"Introduce el nombre de un Libro: \"))\n",
    "\n",
    "#Creamos una lista vacia para llenarla con los titulos disponibles en nuestra libreria\n",
    "libros_disponibles = []\n",
    "\n",
    "# Con este bucle añadimos los libros de nuestra libreria a la lista anterior\n",
    "for nombre in libreria:\n",
    "    valor = nombre.get(\"titulo\")\n",
    "    libros_disponibles.append(valor)\n",
    "\n",
    "# Modificamos los titulos a minisculas de nuestra lista\n",
    "libros_disponibles = list(map(str.lower, libros_disponibles))\n",
    "\n",
    "# Creamos los condicionales para conocer si el titulo introducido por el usuario esta en nuestra libreria\n",
    "# Pasamos el input a minusculas para evitar incongruencias\n",
    "if busca_un_libro.lower() not in libros_disponibles:\n",
    "    print(\"No lo tengo, ¿mola?\")\n",
    "else:\n",
    "    print(\"Está disponible en nuestra librería\")\n",
    "\n"
   ]
  },
  {
   "cell_type": "markdown",
   "metadata": {},
   "source": [
    "## Ejercicio 10\n",
    "Convierte el programa del ejercicio 2 en una función al que se le pase el valor a buscar como un argumento posicional"
   ]
  },
  {
   "cell_type": "code",
   "execution_count": 85,
   "metadata": {},
   "outputs": [
    {
     "name": "stdout",
     "output_type": "stream",
     "text": [
      "La palabra un aparece en las posiciones [0, 7] por lo que se repite 2 veces\n",
      "La palabra es aparece en las posiciones [3, 13] por lo que se repite 2 veces\n",
      "La palabra binario aparece en las posiciones [2, 15] por lo que se repite 2 veces\n"
     ]
    }
   ],
   "source": [
    "\n",
    "\n",
    "def busqueda_palabra (palabra,iterable):\n",
    "    posicion = [] # Lista vacia para luego añadir las posiciones de las palabras repetidas\n",
    "    # Bucle para buscar las posiciones de las palabras repetidas\n",
    "    for llave, valor in enumerate (iterable):\n",
    "        #Condicional que nos permite conocer si nuestra lista contiene la palabra repetida que introducimos en la función\n",
    "        # Tambien transformamos los valores de nuestra lista en minusculas\n",
    "        if valor.lower () == palabra:\n",
    "            # Añadimos la posición a nuestra lista\n",
    "            posicion.append (llave)\n",
    "    return f\"La palabra {palabra} aparece en las posiciones {posicion} por lo que se repite {len (posicion)} veces\"\n",
    "\n",
    "print (busqueda_palabra (\"un\", frase))\n",
    "print (busqueda_palabra (\"es\", frase))\n",
    "print (busqueda_palabra (\"binario\", frase))"
   ]
  },
  {
   "cell_type": "markdown",
   "metadata": {},
   "source": [
    "## Ejercicio 11\n",
    "Convierte el programa del ejercicio 9 en una función al que se le pasen como argumentos la librería, posicional, y el título, argumento keyword con valor \"ninguno\", por defecto."
   ]
  },
  {
   "cell_type": "code",
   "execution_count": 54,
   "metadata": {},
   "outputs": [
    {
     "name": "stdout",
     "output_type": "stream",
     "text": [
      "Está disponible en nuestra librería\n",
      "Está disponible en nuestra librería\n",
      "No lo tengo, ¿mola?\n"
     ]
    }
   ],
   "source": [
    "def librero (libro, iterable):\n",
    "    \n",
    "    inventario_libros = []\n",
    "    \n",
    "    for nombre in iterable:\n",
    "        valor = nombre.get (\"titulo\")\n",
    "        inventario_libros.append (valor)\n",
    "    \n",
    "    inventario_libros = list(map(str.lower, inventario_libros))\n",
    "    \n",
    "    if libro.lower () not in inventario_libros:\n",
    "        return \"No lo tengo, ¿mola?\"\n",
    "    else:\n",
    "        return \"Está disponible en nuestra librería\"\n",
    "    \n",
    "print (librero (libro=\"el señor de los anillos\", iterable=libreria))\n",
    "print (librero (libro=\"1984\", iterable=libreria))\n",
    "print (librero (libro=\"el padrino\", iterable=libreria))"
   ]
  },
  {
   "cell_type": "markdown",
   "metadata": {},
   "source": [
    "## Ejercicio 12\n",
    "Solicitar al usuario que ingrese su dirección email. Imprimir un mensaje indicando si la dirección es válida o no, valiéndose de una función para decidirlo. Una dirección se considerará válida si contiene el símbolo \"@\"."
   ]
  },
  {
   "cell_type": "code",
   "execution_count": 58,
   "metadata": {},
   "outputs": [
    {
     "name": "stdout",
     "output_type": "stream",
     "text": [
      "La dirección de email es correcta\n"
     ]
    }
   ],
   "source": [
    "def validador (email):\n",
    "    if \"@\" not in email:\n",
    "        return \"A la dirección de email le falta el @\"\n",
    "    else:\n",
    "        return \"La dirección de email es correcta\"\n",
    "\n",
    "primer_email = input (\"Introduce una dirección de email: \")\n",
    "\n",
    "print (validador(email = primer_email))"
   ]
  },
  {
   "cell_type": "markdown",
   "metadata": {},
   "source": [
    "## Ejercicio 13\n",
    "Escribe una función que compruebe si un DNI es válido, devolviendo `True` en caso afirmativo.  \n",
    "En primer lugar, el DNI debe tener entre 7 y 8 dígitos numéricos.  \n",
    "Para saber si la letra del DNI es correcta puedes utilizar el siguiente fragmento de código:\n",
    ">```Python\n",
    ">DNI= 55555555\n",
    ">palabra='TRWAGMYFPDXBNJZSQVHLCKE'\n",
    ">print('La letra del DNI es: ', palabra[DNI%23])\n",
    ">````\n"
   ]
  },
  {
   "cell_type": "code",
   "execution_count": 72,
   "metadata": {},
   "outputs": [
    {
     "name": "stdout",
     "output_type": "stream",
     "text": [
      "El n´muero de dni es correcto\n",
      "La palabra no es valida debería ser la letra L\n",
      "False\n"
     ]
    }
   ],
   "source": [
    "\n",
    "\n",
    "\n",
    "def comprobador_dni (numero,letra):\n",
    "    palabra_lista ='TRWAGMYFPDXBNJZSQVHLCKE'\n",
    "    letra_dni = palabra_lista [numero%23]\n",
    "\n",
    "    if len(str(numero)) == 7 or len (str(numero)) == 8:\n",
    "        print (\"El número de dni es correcto:\", numero)\n",
    "        \n",
    "        if letra == letra_dni:\n",
    "            print (\"Perfecto la palabra coincide con nuestra base de datos\")\n",
    "            return True\n",
    "        else:\n",
    "            print (\"La palabra no es valida debería ser la letra\", letra_dni)\n",
    "            return False\n",
    "\n",
    "        \n",
    "    else:\n",
    "        print (\"La longitud es mayor a 8 no es valido\")\n",
    "        return False\n",
    "\n",
    "numero_dni = int(input(\"Introduce el número del dni: \"))\n",
    "letra_dni = input (\"Introduce la letra del dni: \")\n",
    "\n",
    "\n",
    "print (comprobador_dni (numero = numero_dni, letra= letra_dni))"
   ]
  },
  {
   "cell_type": "code",
   "execution_count": null,
   "metadata": {},
   "outputs": [],
   "source": []
  },
  {
   "cell_type": "code",
   "execution_count": null,
   "metadata": {},
   "outputs": [],
   "source": []
  }
 ],
 "metadata": {
  "kernelspec": {
   "display_name": "Python 3",
   "language": "python",
   "name": "python3"
  },
  "language_info": {
   "codemirror_mode": {
    "name": "ipython",
    "version": 3
   },
   "file_extension": ".py",
   "mimetype": "text/x-python",
   "name": "python",
   "nbconvert_exporter": "python",
   "pygments_lexer": "ipython3",
   "version": "3.10.11"
  },
  "orig_nbformat": 4
 },
 "nbformat": 4,
 "nbformat_minor": 2
}
