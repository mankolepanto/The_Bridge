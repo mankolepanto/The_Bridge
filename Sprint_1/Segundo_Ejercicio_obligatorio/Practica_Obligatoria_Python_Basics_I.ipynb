{
 "cells": [
  {
   "cell_type": "markdown",
   "metadata": {},
   "source": [
    "## PRACTICA OBLIGATORIA: PYTHON"
   ]
  },
  {
   "cell_type": "markdown",
   "metadata": {},
   "source": [
    "* La práctica obligatoria de esta unidad consiste en dos ejercicios de programación libre a completar. Descarga este notebook en tu ordenador y trabaja en local.  \n",
    "* Recuerda que debes subirla a tu repositorio personal antes de la sesión en vivo para que puntúe adecuadamente.  \n",
    "* Recuerda también que no es necesario que esté perfecta, sólo es necesario que se vea el esfuerzo. \n",
    "* Esta práctica se resolverá en la sesión en vivo correspondiente y la solución se publicará en el repo del curso. "
   ]
  },
  {
   "attachments": {
    "ejercicio.png": {
     "image/png": "[encoded data removed]"
    }
   },
   "cell_type": "markdown",
   "metadata": {},
   "source": [
    "![ejercicio.png](attachment:ejercicio.png)\n",
    "## PARTE I\n",
    "\n",
    "En este ejercicio debes simular un chatbot al que le haremos pedidos de pizzas.\n",
    "\n",
    "1. El chatbot tiene que saludar con un: \"Buenas tardes, bienvenido al servicio de pedido online, el precio de nuestra pizzas es de 8,95 para la familiar o de 9,90 para la mediana ¿Cuántas pizzas  familiares desea?\"\n",
    "2. El ususario tiene que introducir un número de pizzas en una variable llamada 'pizz_familiar'\n",
    "3. El chatbot debe responder: \"Estupendo, ¿cuántas pizzas medianas desea?\" y guardar el número de pizzas medianas en otra variable 'pizz_mediana'\n",
    "4. Además debe responder del chatbot: \"Estupendo, se están preparando 'pizz' pizzas familiares y 'pizz_mediana' pizzas medianas. Digame su dirección\"\n",
    "5. El ususario tiene que introducir una direccion en formato String en otra variable llamada 'direcc'\n",
    "6. El programa debe calcular el monto total \n",
    "7. Respuesta final del chatbot: \"Le mandaremos las '(número total de pizzas)' pizzas a la dirección 'direcc'. Serán <precio total a pagar en euros>. Muchas gracias por su pedido.\"\n",
    "         \n"
   ]
  },
  {
   "cell_type": "code",
   "execution_count": 2,
   "metadata": {},
   "outputs": [
    {
     "name": "stdout",
     "output_type": "stream",
     "text": [
      "Buenas tardes, bienvenido al servicio de pedido online, \n",
      "el precio de nuestra pizzas es de 8,95 para la familiar o de 9,90 para la mediana \n",
      "¿Cuántas pizzas  familiares desea?\n",
      "Estupendo, se están preparando 5 pizzas familiares y  5 pizzas medianas. Digame su dirección\n",
      "Le mandaremos las 10 pizzas a la dirección lol. Serán 94.25 total a pagar en euros. Muchas gracias por su pedido.\n"
     ]
    }
   ],
   "source": [
    "print (\"\"\"Buenas tardes, bienvenido al servicio de pedido online, \n",
    "el precio de nuestra pizzas es de 8,95 para la familiar o de 9,90 para la mediana \n",
    "¿Cuántas pizzas  familiares desea?\"\"\")\n",
    "\n",
    "pizz_familiar = int(input(\"Introduce el numero de pizzas familiares: \"))\n",
    "\n",
    "pizz_mediana = int(input(\"Estupendo, ¿cuántas pizzas medianas desea?: \"))\n",
    "\n",
    "# Se imprime en consola el pedido del cliente\n",
    "print (\"Estupendo, se están preparando\", pizz_familiar, \"pizzas familiares y \" , pizz_mediana, \"pizzas medianas. Digame su dirección\")\n",
    "\n",
    "direcc = str (input(\"Digame su dirección\"))\n",
    "\n",
    "# Añadimos el precio a las pizzas en dos variables\n",
    "precio_familiar = 8.95\n",
    "precio_mediana = 9.90\n",
    "\n",
    "coste_total = pizz_familiar * precio_familiar + pizz_mediana * precio_mediana # Calculo para conocer lo que tiene que pagar el cliente\n",
    "\n",
    "print (\"Le mandaremos las %s pizzas a la dirección %s. Serán %s total a pagar en euros. Muchas gracias por su pedido.\"\n",
    "       %(pizz_familiar + pizz_mediana, direcc, coste_total)) # Estas 3 variables se reproducen en el lugar de %s, en orden\n"
   ]
  },
  {
   "cell_type": "code",
   "execution_count": null,
   "metadata": {},
   "outputs": [],
   "source": []
  },
  {
   "attachments": {
    "ejercicio.png": {
     "image/png": "[encoded data removed]"
    }
   },
   "cell_type": "markdown",
   "metadata": {},
   "source": [
    "![ejercicio.png](attachment:ejercicio.png)\n",
    "## Parte II\n",
    "\n",
    "Crea un programa que realice las siguientes acciones:\n",
    "\n",
    "1. Solicite al usuario que introduzca 3 números enteros separados por comas (por ejemplo: 1,2,3).\n",
    "2. Convierta esa entrada en una lista de números enteros.\n",
    "3. Utilizando funciones built-in, determine el número máximo, el número mínimo y la suma total de los números introducidos.\n",
    "4. Determine la verdad o falsedad de la siguiente afirmación: \"El número máximo menos el número mínimo es igual a la suma total dividida por 5\".\n",
    "5. Muestre los resultados utilizando print."
   ]
  },
  {
   "cell_type": "code",
   "execution_count": 6,
   "metadata": {},
   "outputs": [
    {
     "name": "stdout",
     "output_type": "stream",
     "text": [
      "Esta es la lista de números introducida:  [1, 5, 10]\n",
      "El número máximo es: 10 \n",
      "El número mínimo es: 1 \n",
      "El resultado de la suma de los tres números es: 16\n",
      "El número máximo menos el número mínimo es igual a la suma total dividida por 5: False <class 'bool'>\n"
     ]
    }
   ],
   "source": [
    "entrada = input (\"Introduce 3 numeros separados por comas\")\n",
    "\n",
    "entrada_lista = list (map(int, entrada.split (\",\"))) # Variable que usamos para \n",
    "print (\"Esta es la lista de números introducida: \", entrada_lista)\n",
    "\n",
    "num_alto = max (entrada_lista)\n",
    "num_bajo = min (entrada_lista)\n",
    "num_suma = sum (entrada_lista)\n",
    "\n",
    "print (\"El número máximo es:\", num_alto, \n",
    "       \"\\nEl número mínimo es:\", num_bajo, \n",
    "       \"\\nEl resultado de la suma de los tres números es:\", num_suma)\n",
    "\n",
    "\n",
    "\"\"\"\n",
    "print (num_alto - num_bajo) == (num_suma/5)\n",
    "Pensaba que esto funcionaria igual pero me da dos salidas: por un lado un int y por otro False en lineas distintas\n",
    "Creando una variable y luego imprimiendo la variable no da ese valor ?\n",
    "\"\"\"\n",
    "\n",
    "calculo = (num_alto - num_bajo) == (num_suma/5)\n",
    "\n",
    "print (\"El número máximo menos el número mínimo es igual a la suma total dividida por 5: \", end = \"\")\n",
    "\n",
    "print (calculo, type(calculo))\n",
    "\n"
   ]
  },
  {
   "cell_type": "code",
   "execution_count": null,
   "metadata": {},
   "outputs": [],
   "source": []
  }
 ],
 "metadata": {
  "kernelspec": {
   "display_name": "Curso_Online_DATA",
   "language": "python",
   "name": "python3"
  },
  "language_info": {
   "codemirror_mode": {
    "name": "ipython",
    "version": 3
   },
   "file_extension": ".py",
   "mimetype": "text/x-python",
   "name": "python",
   "nbconvert_exporter": "python",
   "pygments_lexer": "ipython3",
   "version": "3.10.11"
  },
  "orig_nbformat": 4
 },
 "nbformat": 4,
 "nbformat_minor": 2
}
