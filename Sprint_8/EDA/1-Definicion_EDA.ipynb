{
 "cells": [
  {
   "cell_type": "markdown",
   "metadata": {},
   "source": [
    "![imagen](./img/ejercicios.png)"
   ]
  },
  {
   "cell_type": "markdown",
   "metadata": {},
   "source": [
    "# INFORMACIÓN DEL PROYECTO"
   ]
  },
  {
   "cell_type": "markdown",
   "metadata": {},
   "source": [
    "### TÍTULO"
   ]
  },
  {
   "cell_type": "code",
   "execution_count": null,
   "metadata": {},
   "outputs": [],
   "source": [
    "#Escribe el título del proyecto en Markdown\n",
    "titulo = \"Analisis exploratorio de Bitcoin\""
   ]
  },
  {
   "cell_type": "markdown",
   "metadata": {},
   "source": [
    "### TEMA"
   ]
  },
  {
   "cell_type": "code",
   "execution_count": null,
   "metadata": {},
   "outputs": [],
   "source": [
    "# Describe brevemente el tema del proyecto en Markdown\n",
    "tema = \"Conocer algunos aspectos fundamentales de la cotización de bitcoin y conocer que tipo de estrategias han funcionado mejor en el pasado\""
   ]
  },
  {
   "cell_type": "markdown",
   "metadata": {},
   "source": [
    "### HIPÓTESIS"
   ]
  },
  {
   "cell_type": "markdown",
   "metadata": {},
   "source": [
    "Define aquí lo que será la hipótesis de tu proyecto.\n",
    "Deberás tener más de una, pero tu proyecto lo harás teniendo una principal hipótesis."
   ]
  },
  {
   "cell_type": "code",
   "execution_count": null,
   "metadata": {},
   "outputs": [],
   "source": [
    "# Escribe tu hipótesis principal en Markdown\n",
    "hipotesis_1 = \"Estrategia cruce de emas 50/200 para inversión a largo plazo en tf semanal/diario\"\n",
    "hipotesis_2 = \"Rentabilidades si estamos siempre en el mercado, evitando los 15 peores/mejores rendimientos semanal\"\n",
    "hipotesis_3 = \"Volatilidad implicita o historica del btc y como afecta en otros activos del mercado\"\n",
    "hipotesis_4 = \"Correlacion de btc/usdt y eth/btc\"\n",
    "hipotesis_5 = \"Corellacion de btc/usdt con intereses de lending o defi\""
   ]
  },
  {
   "cell_type": "markdown",
   "metadata": {},
   "source": [
    "## OBTENCIÓN DE LOS DATOS"
   ]
  },
  {
   "cell_type": "markdown",
   "metadata": {},
   "source": [
    "### DATASETS Y FUENTES ALTERNATIVAS DE DATOS"
   ]
  },
  {
   "cell_type": "markdown",
   "metadata": {},
   "source": [
    "Incluye aquí una vista del dataset o datasets de los que partirás para poder evaluar tu hipótesis. <br>\n",
    "También incluye el origen de estos datos y su fuente."
   ]
  },
  {
   "cell_type": "code",
   "execution_count": 6,
   "metadata": {},
   "outputs": [],
   "source": [
    "import pandas as pd\n",
    "import numpy as np\n",
    "# guarda en variables los datasets y su fuente\n",
    "df_bit = pd.read_csv (r\"C:\\Users\\pobla\\OneDrive\\Escritorio\\REPOS_TO\\MI_REPO\\ONLINE_DS_THEBRIDGE_-Jorge_Pobla-\\Sprint_8\\EDA\\Data\\Bitcoin_Historical_Data4.csv\")\n",
    "\n",
    "fuente_1 = \"\"\n",
    "# df_2 = pd.DataFrame()\n",
    "# fuente_2 = \"\"\n",
    "# df_3 = pd.DataFrame()\n",
    "# fuente_3 = \"\"\n",
    "# df_4 = pd.DataFrame()\n",
    "# fuente_4 = \"\"\n",
    "# df_5 = pd.DataFrame()\n",
    "# fuente_5 = \"\"\n",
    "# ..."
   ]
  },
  {
   "cell_type": "markdown",
   "metadata": {},
   "source": [
    "Muestra mediante un head() los principales datasets con los que vas a trabajar"
   ]
  },
  {
   "cell_type": "code",
   "execution_count": 7,
   "metadata": {},
   "outputs": [
    {
     "data": {
      "text/html": [
       "<div>\n",
       "<style scoped>\n",
       "    .dataframe tbody tr th:only-of-type {\n",
       "        vertical-align: middle;\n",
       "    }\n",
       "\n",
       "    .dataframe tbody tr th {\n",
       "        vertical-align: top;\n",
       "    }\n",
       "\n",
       "    .dataframe thead th {\n",
       "        text-align: right;\n",
       "    }\n",
       "</style>\n",
       "<table border=\"1\" class=\"dataframe\">\n",
       "  <thead>\n",
       "    <tr style=\"text-align: right;\">\n",
       "      <th></th>\n",
       "      <th>Date</th>\n",
       "      <th>Price</th>\n",
       "      <th>Open</th>\n",
       "      <th>High</th>\n",
       "      <th>Low</th>\n",
       "      <th>Vol.</th>\n",
       "      <th>Change %</th>\n",
       "    </tr>\n",
       "  </thead>\n",
       "  <tbody>\n",
       "    <tr>\n",
       "      <th>0</th>\n",
       "      <td>03/18/2024</td>\n",
       "      <td>67,594.1</td>\n",
       "      <td>68,389.7</td>\n",
       "      <td>68,920.1</td>\n",
       "      <td>66,601.4</td>\n",
       "      <td>78.07K</td>\n",
       "      <td>-1.17%</td>\n",
       "    </tr>\n",
       "    <tr>\n",
       "      <th>1</th>\n",
       "      <td>03/17/2024</td>\n",
       "      <td>68,391.2</td>\n",
       "      <td>65,314.2</td>\n",
       "      <td>68,857.7</td>\n",
       "      <td>64,605.5</td>\n",
       "      <td>66.07K</td>\n",
       "      <td>4.71%</td>\n",
       "    </tr>\n",
       "    <tr>\n",
       "      <th>2</th>\n",
       "      <td>03/16/2024</td>\n",
       "      <td>65,314.2</td>\n",
       "      <td>69,456.5</td>\n",
       "      <td>70,037.0</td>\n",
       "      <td>64,971.0</td>\n",
       "      <td>75.82K</td>\n",
       "      <td>-5.97%</td>\n",
       "    </tr>\n",
       "    <tr>\n",
       "      <th>3</th>\n",
       "      <td>03/15/2024</td>\n",
       "      <td>69,463.7</td>\n",
       "      <td>71,387.1</td>\n",
       "      <td>72,398.1</td>\n",
       "      <td>65,765.6</td>\n",
       "      <td>148.59K</td>\n",
       "      <td>-2.69%</td>\n",
       "    </tr>\n",
       "    <tr>\n",
       "      <th>4</th>\n",
       "      <td>03/14/2024</td>\n",
       "      <td>71,387.5</td>\n",
       "      <td>73,066.7</td>\n",
       "      <td>73,740.9</td>\n",
       "      <td>68,717.2</td>\n",
       "      <td>109.43K</td>\n",
       "      <td>-2.30%</td>\n",
       "    </tr>\n",
       "  </tbody>\n",
       "</table>\n",
       "</div>"
      ],
      "text/plain": [
       "         Date     Price      Open      High       Low     Vol. Change %\n",
       "0  03/18/2024  67,594.1  68,389.7  68,920.1  66,601.4   78.07K   -1.17%\n",
       "1  03/17/2024  68,391.2  65,314.2  68,857.7  64,605.5   66.07K    4.71%\n",
       "2  03/16/2024  65,314.2  69,456.5  70,037.0  64,971.0   75.82K   -5.97%\n",
       "3  03/15/2024  69,463.7  71,387.1  72,398.1  65,765.6  148.59K   -2.69%\n",
       "4  03/14/2024  71,387.5  73,066.7  73,740.9  68,717.2  109.43K   -2.30%"
      ]
     },
     "execution_count": 7,
     "metadata": {},
     "output_type": "execute_result"
    }
   ],
   "source": [
    "# Primer dataset\n",
    "# df_1.head()\n",
    "df_bit.head ()"
   ]
  },
  {
   "cell_type": "code",
   "execution_count": 8,
   "metadata": {},
   "outputs": [
    {
     "data": {
      "text/html": [
       "<div>\n",
       "<style scoped>\n",
       "    .dataframe tbody tr th:only-of-type {\n",
       "        vertical-align: middle;\n",
       "    }\n",
       "\n",
       "    .dataframe tbody tr th {\n",
       "        vertical-align: top;\n",
       "    }\n",
       "\n",
       "    .dataframe thead th {\n",
       "        text-align: right;\n",
       "    }\n",
       "</style>\n",
       "<table border=\"1\" class=\"dataframe\">\n",
       "  <thead>\n",
       "    <tr style=\"text-align: right;\">\n",
       "      <th></th>\n",
       "      <th>Date</th>\n",
       "      <th>Price</th>\n",
       "      <th>Open</th>\n",
       "      <th>High</th>\n",
       "      <th>Low</th>\n",
       "      <th>Vol.</th>\n",
       "      <th>Change %</th>\n",
       "    </tr>\n",
       "  </thead>\n",
       "  <tbody>\n",
       "    <tr>\n",
       "      <th>0</th>\n",
       "      <td>03/18/2024</td>\n",
       "      <td>67,594.1</td>\n",
       "      <td>68,389.7</td>\n",
       "      <td>68,920.1</td>\n",
       "      <td>66,601.4</td>\n",
       "      <td>78.07K</td>\n",
       "      <td>-1.17%</td>\n",
       "    </tr>\n",
       "    <tr>\n",
       "      <th>1</th>\n",
       "      <td>03/17/2024</td>\n",
       "      <td>68,391.2</td>\n",
       "      <td>65,314.2</td>\n",
       "      <td>68,857.7</td>\n",
       "      <td>64,605.5</td>\n",
       "      <td>66.07K</td>\n",
       "      <td>4.71%</td>\n",
       "    </tr>\n",
       "    <tr>\n",
       "      <th>2</th>\n",
       "      <td>03/16/2024</td>\n",
       "      <td>65,314.2</td>\n",
       "      <td>69,456.5</td>\n",
       "      <td>70,037.0</td>\n",
       "      <td>64,971.0</td>\n",
       "      <td>75.82K</td>\n",
       "      <td>-5.97%</td>\n",
       "    </tr>\n",
       "    <tr>\n",
       "      <th>3</th>\n",
       "      <td>03/15/2024</td>\n",
       "      <td>69,463.7</td>\n",
       "      <td>71,387.1</td>\n",
       "      <td>72,398.1</td>\n",
       "      <td>65,765.6</td>\n",
       "      <td>148.59K</td>\n",
       "      <td>-2.69%</td>\n",
       "    </tr>\n",
       "    <tr>\n",
       "      <th>4</th>\n",
       "      <td>03/14/2024</td>\n",
       "      <td>71,387.5</td>\n",
       "      <td>73,066.7</td>\n",
       "      <td>73,740.9</td>\n",
       "      <td>68,717.2</td>\n",
       "      <td>109.43K</td>\n",
       "      <td>-2.30%</td>\n",
       "    </tr>\n",
       "    <tr>\n",
       "      <th>...</th>\n",
       "      <td>...</td>\n",
       "      <td>...</td>\n",
       "      <td>...</td>\n",
       "      <td>...</td>\n",
       "      <td>...</td>\n",
       "      <td>...</td>\n",
       "      <td>...</td>\n",
       "    </tr>\n",
       "    <tr>\n",
       "      <th>4988</th>\n",
       "      <td>07/22/2010</td>\n",
       "      <td>0.1</td>\n",
       "      <td>0.1</td>\n",
       "      <td>0.1</td>\n",
       "      <td>0.1</td>\n",
       "      <td>2.16K</td>\n",
       "      <td>0.00%</td>\n",
       "    </tr>\n",
       "    <tr>\n",
       "      <th>4989</th>\n",
       "      <td>07/21/2010</td>\n",
       "      <td>0.1</td>\n",
       "      <td>0.1</td>\n",
       "      <td>0.1</td>\n",
       "      <td>0.1</td>\n",
       "      <td>0.58K</td>\n",
       "      <td>0.00%</td>\n",
       "    </tr>\n",
       "    <tr>\n",
       "      <th>4990</th>\n",
       "      <td>07/20/2010</td>\n",
       "      <td>0.1</td>\n",
       "      <td>0.1</td>\n",
       "      <td>0.1</td>\n",
       "      <td>0.1</td>\n",
       "      <td>0.26K</td>\n",
       "      <td>0.00%</td>\n",
       "    </tr>\n",
       "    <tr>\n",
       "      <th>4991</th>\n",
       "      <td>07/19/2010</td>\n",
       "      <td>0.1</td>\n",
       "      <td>0.1</td>\n",
       "      <td>0.1</td>\n",
       "      <td>0.1</td>\n",
       "      <td>0.57K</td>\n",
       "      <td>0.00%</td>\n",
       "    </tr>\n",
       "    <tr>\n",
       "      <th>4992</th>\n",
       "      <td>07/18/2010</td>\n",
       "      <td>0.1</td>\n",
       "      <td>0.0</td>\n",
       "      <td>0.1</td>\n",
       "      <td>0.1</td>\n",
       "      <td>0.08K</td>\n",
       "      <td>0.00%</td>\n",
       "    </tr>\n",
       "  </tbody>\n",
       "</table>\n",
       "<p>4993 rows × 7 columns</p>\n",
       "</div>"
      ],
      "text/plain": [
       "            Date     Price      Open      High       Low     Vol. Change %\n",
       "0     03/18/2024  67,594.1  68,389.7  68,920.1  66,601.4   78.07K   -1.17%\n",
       "1     03/17/2024  68,391.2  65,314.2  68,857.7  64,605.5   66.07K    4.71%\n",
       "2     03/16/2024  65,314.2  69,456.5  70,037.0  64,971.0   75.82K   -5.97%\n",
       "3     03/15/2024  69,463.7  71,387.1  72,398.1  65,765.6  148.59K   -2.69%\n",
       "4     03/14/2024  71,387.5  73,066.7  73,740.9  68,717.2  109.43K   -2.30%\n",
       "...          ...       ...       ...       ...       ...      ...      ...\n",
       "4988  07/22/2010       0.1       0.1       0.1       0.1    2.16K    0.00%\n",
       "4989  07/21/2010       0.1       0.1       0.1       0.1    0.58K    0.00%\n",
       "4990  07/20/2010       0.1       0.1       0.1       0.1    0.26K    0.00%\n",
       "4991  07/19/2010       0.1       0.1       0.1       0.1    0.57K    0.00%\n",
       "4992  07/18/2010       0.1       0.0       0.1       0.1    0.08K    0.00%\n",
       "\n",
       "[4993 rows x 7 columns]"
      ]
     },
     "execution_count": 8,
     "metadata": {},
     "output_type": "execute_result"
    }
   ],
   "source": [
    "df_bit"
   ]
  },
  {
   "cell_type": "code",
   "execution_count": null,
   "metadata": {},
   "outputs": [],
   "source": []
  }
 ],
 "metadata": {
  "kernelspec": {
   "display_name": "Python 3.7.4 64-bit",
   "language": "python",
   "name": "python3"
  },
  "language_info": {
   "codemirror_mode": {
    "name": "ipython",
    "version": 3
   },
   "file_extension": ".py",
   "mimetype": "text/x-python",
   "name": "python",
   "nbconvert_exporter": "python",
   "pygments_lexer": "ipython3",
   "version": "3.10.11"
  },
  "orig_nbformat": 4,
  "vscode": {
   "interpreter": {
    "hash": "90139cb9a825bf3d63f6f6704e828dbd1ff7edbd4d0c6e906a71235d6efc74af"
   }
  }
 },
 "nbformat": 4,
 "nbformat_minor": 2
}
