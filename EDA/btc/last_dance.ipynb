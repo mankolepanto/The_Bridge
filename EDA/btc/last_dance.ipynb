{
 "cells": [
  {
   "cell_type": "code",
   "execution_count": 155,
   "metadata": {},
   "outputs": [],
   "source": [
    "from librerias import *"
   ]
  },
  {
   "cell_type": "code",
   "execution_count": 156,
   "metadata": {},
   "outputs": [],
   "source": [
    "btc = pd.read_csv ('Data/btc_limp.csv')\n",
    "\n",
    "btc.set_index('Date', inplace=True)\n",
    "\n",
    "btc.index = pd.to_datetime(btc.index)\n",
    "btc_mes = btc.resample('MS').first()\n",
    "\n",
    "# Elimina los datos anteriores a '2014-01-01'\n",
    "btc = btc_mes.loc['2014-01-01':]\n",
    "\n"
   ]
  },
  {
   "cell_type": "code",
   "execution_count": 157,
   "metadata": {},
   "outputs": [],
   "source": [
    "btc_mes = btc ['Open']\n",
    "btc_mes = pd.DataFrame (btc_mes)\n"
   ]
  },
  {
   "cell_type": "code",
   "execution_count": 158,
   "metadata": {},
   "outputs": [],
   "source": [
    "btc_mes ['retornos']= btc_mes ['Open'].pct_change ().round (3).dropna ()"
   ]
  },
  {
   "cell_type": "code",
   "execution_count": 159,
   "metadata": {},
   "outputs": [],
   "source": [
    "btc_sin_up = btc_mes.copy ()\n",
    "btc_sin_up = pd.DataFrame (btc_sin_up)\n",
    "btc_sin_up.index = pd.to_datetime(btc_sin_up.index)\n",
    "\n",
    "btc_sin_up_down = btc_mes.copy ()\n",
    "btc_sin_up_down = pd.DataFrame (btc_sin_up_down)\n",
    "btc_sin_up_down.index = pd.to_datetime(btc_sin_up_down.index)\n",
    "\n"
   ]
  },
  {
   "cell_type": "code",
   "execution_count": 160,
   "metadata": {},
   "outputs": [
    {
     "data": {
      "text/html": [
       "<div>\n",
       "<style scoped>\n",
       "    .dataframe tbody tr th:only-of-type {\n",
       "        vertical-align: middle;\n",
       "    }\n",
       "\n",
       "    .dataframe tbody tr th {\n",
       "        vertical-align: top;\n",
       "    }\n",
       "\n",
       "    .dataframe thead th {\n",
       "        text-align: right;\n",
       "    }\n",
       "</style>\n",
       "<table border=\"1\" class=\"dataframe\">\n",
       "  <thead>\n",
       "    <tr style=\"text-align: right;\">\n",
       "      <th></th>\n",
       "      <th>Open</th>\n",
       "      <th>retornos</th>\n",
       "      <th>ganancias</th>\n",
       "    </tr>\n",
       "    <tr>\n",
       "      <th>Date</th>\n",
       "      <th></th>\n",
       "      <th></th>\n",
       "      <th></th>\n",
       "    </tr>\n",
       "  </thead>\n",
       "  <tbody>\n",
       "    <tr>\n",
       "      <th>2023-11-01</th>\n",
       "      <td>34648</td>\n",
       "      <td>0.285</td>\n",
       "      <td>43.024011</td>\n",
       "    </tr>\n",
       "    <tr>\n",
       "      <th>2023-12-01</th>\n",
       "      <td>37712</td>\n",
       "      <td>0.088</td>\n",
       "      <td>46.810124</td>\n",
       "    </tr>\n",
       "    <tr>\n",
       "      <th>2024-01-01</th>\n",
       "      <td>42272</td>\n",
       "      <td>0.121</td>\n",
       "      <td>52.474149</td>\n",
       "    </tr>\n",
       "    <tr>\n",
       "      <th>2024-02-01</th>\n",
       "      <td>42580</td>\n",
       "      <td>0.007</td>\n",
       "      <td>52.841468</td>\n",
       "    </tr>\n",
       "    <tr>\n",
       "      <th>2024-03-01</th>\n",
       "      <td>61157</td>\n",
       "      <td>0.436</td>\n",
       "      <td>75.880348</td>\n",
       "    </tr>\n",
       "  </tbody>\n",
       "</table>\n",
       "</div>"
      ],
      "text/plain": [
       "             Open  retornos  ganancias\n",
       "Date                                  \n",
       "2023-11-01  34648     0.285  43.024011\n",
       "2023-12-01  37712     0.088  46.810124\n",
       "2024-01-01  42272     0.121  52.474149\n",
       "2024-02-01  42580     0.007  52.841468\n",
       "2024-03-01  61157     0.436  75.880348"
      ]
     },
     "execution_count": 160,
     "metadata": {},
     "output_type": "execute_result"
    }
   ],
   "source": [
    "btc_mes ['ganancias'] = (1 + btc_mes['retornos']).cumprod()\n",
    "\n",
    "btc_mes.tail ()"
   ]
  },
  {
   "cell_type": "code",
   "execution_count": 161,
   "metadata": {},
   "outputs": [],
   "source": [
    "indices_mejores = btc_mes['retornos'].nlargest(5).index\n",
    "btc_sin_up.loc[indices_mejores, 'retornos'] = 0.0"
   ]
  },
  {
   "cell_type": "code",
   "execution_count": 162,
   "metadata": {},
   "outputs": [
    {
     "data": {
      "text/html": [
       "<div>\n",
       "<style scoped>\n",
       "    .dataframe tbody tr th:only-of-type {\n",
       "        vertical-align: middle;\n",
       "    }\n",
       "\n",
       "    .dataframe tbody tr th {\n",
       "        vertical-align: top;\n",
       "    }\n",
       "\n",
       "    .dataframe thead th {\n",
       "        text-align: right;\n",
       "    }\n",
       "</style>\n",
       "<table border=\"1\" class=\"dataframe\">\n",
       "  <thead>\n",
       "    <tr style=\"text-align: right;\">\n",
       "      <th></th>\n",
       "      <th>Open</th>\n",
       "      <th>retornos</th>\n",
       "      <th>ganancias</th>\n",
       "    </tr>\n",
       "    <tr>\n",
       "      <th>Date</th>\n",
       "      <th></th>\n",
       "      <th></th>\n",
       "      <th></th>\n",
       "    </tr>\n",
       "  </thead>\n",
       "  <tbody>\n",
       "    <tr>\n",
       "      <th>2023-11-01</th>\n",
       "      <td>34648</td>\n",
       "      <td>0.285</td>\n",
       "      <td>4.190586</td>\n",
       "    </tr>\n",
       "    <tr>\n",
       "      <th>2023-12-01</th>\n",
       "      <td>37712</td>\n",
       "      <td>0.088</td>\n",
       "      <td>4.559358</td>\n",
       "    </tr>\n",
       "    <tr>\n",
       "      <th>2024-01-01</th>\n",
       "      <td>42272</td>\n",
       "      <td>0.121</td>\n",
       "      <td>5.111040</td>\n",
       "    </tr>\n",
       "    <tr>\n",
       "      <th>2024-02-01</th>\n",
       "      <td>42580</td>\n",
       "      <td>0.007</td>\n",
       "      <td>5.146817</td>\n",
       "    </tr>\n",
       "    <tr>\n",
       "      <th>2024-03-01</th>\n",
       "      <td>61157</td>\n",
       "      <td>0.436</td>\n",
       "      <td>7.390830</td>\n",
       "    </tr>\n",
       "  </tbody>\n",
       "</table>\n",
       "</div>"
      ],
      "text/plain": [
       "             Open  retornos  ganancias\n",
       "Date                                  \n",
       "2023-11-01  34648     0.285   4.190586\n",
       "2023-12-01  37712     0.088   4.559358\n",
       "2024-01-01  42272     0.121   5.111040\n",
       "2024-02-01  42580     0.007   5.146817\n",
       "2024-03-01  61157     0.436   7.390830"
      ]
     },
     "execution_count": 162,
     "metadata": {},
     "output_type": "execute_result"
    }
   ],
   "source": [
    "btc_sin_up ['ganancias'] = (1 + btc_sin_up['retornos']).cumprod()\n",
    "\n",
    "btc_sin_up.tail ()"
   ]
  },
  {
   "cell_type": "code",
   "execution_count": 163,
   "metadata": {},
   "outputs": [],
   "source": [
    "# Obtener los índices de los 5 mejores y 5 peores meses\n",
    "indices_mejores = btc_sin_up_down['retornos'].nlargest(5).index\n",
    "indices_peores = btc_sin_up_down['retornos'].nsmallest(5).index\n",
    "\n",
    "# Asignar 0.0 a los valores correspondientes en la columna 'retornos'\n",
    "btc_sin_up_down.loc[indices_mejores, 'retornos'] = 0.0\n",
    "btc_sin_up_down.loc[indices_peores, 'retornos'] = 0.0\n"
   ]
  },
  {
   "cell_type": "code",
   "execution_count": 164,
   "metadata": {},
   "outputs": [
    {
     "data": {
      "text/html": [
       "<div>\n",
       "<style scoped>\n",
       "    .dataframe tbody tr th:only-of-type {\n",
       "        vertical-align: middle;\n",
       "    }\n",
       "\n",
       "    .dataframe tbody tr th {\n",
       "        vertical-align: top;\n",
       "    }\n",
       "\n",
       "    .dataframe thead th {\n",
       "        text-align: right;\n",
       "    }\n",
       "</style>\n",
       "<table border=\"1\" class=\"dataframe\">\n",
       "  <thead>\n",
       "    <tr style=\"text-align: right;\">\n",
       "      <th></th>\n",
       "      <th>Open</th>\n",
       "      <th>retornos</th>\n",
       "    </tr>\n",
       "    <tr>\n",
       "      <th>Date</th>\n",
       "      <th></th>\n",
       "      <th></th>\n",
       "    </tr>\n",
       "  </thead>\n",
       "  <tbody>\n",
       "    <tr>\n",
       "      <th>2023-11-01</th>\n",
       "      <td>34648</td>\n",
       "      <td>0.285</td>\n",
       "    </tr>\n",
       "    <tr>\n",
       "      <th>2023-12-01</th>\n",
       "      <td>37712</td>\n",
       "      <td>0.088</td>\n",
       "    </tr>\n",
       "    <tr>\n",
       "      <th>2024-01-01</th>\n",
       "      <td>42272</td>\n",
       "      <td>0.121</td>\n",
       "    </tr>\n",
       "    <tr>\n",
       "      <th>2024-02-01</th>\n",
       "      <td>42580</td>\n",
       "      <td>0.007</td>\n",
       "    </tr>\n",
       "    <tr>\n",
       "      <th>2024-03-01</th>\n",
       "      <td>61157</td>\n",
       "      <td>0.436</td>\n",
       "    </tr>\n",
       "  </tbody>\n",
       "</table>\n",
       "</div>"
      ],
      "text/plain": [
       "             Open  retornos\n",
       "Date                       \n",
       "2023-11-01  34648     0.285\n",
       "2023-12-01  37712     0.088\n",
       "2024-01-01  42272     0.121\n",
       "2024-02-01  42580     0.007\n",
       "2024-03-01  61157     0.436"
      ]
     },
     "execution_count": 164,
     "metadata": {},
     "output_type": "execute_result"
    }
   ],
   "source": [
    "btc_sin_up_down.tail ()"
   ]
  },
  {
   "cell_type": "code",
   "execution_count": 165,
   "metadata": {},
   "outputs": [
    {
     "data": {
      "text/html": [
       "<div>\n",
       "<style scoped>\n",
       "    .dataframe tbody tr th:only-of-type {\n",
       "        vertical-align: middle;\n",
       "    }\n",
       "\n",
       "    .dataframe tbody tr th {\n",
       "        vertical-align: top;\n",
       "    }\n",
       "\n",
       "    .dataframe thead th {\n",
       "        text-align: right;\n",
       "    }\n",
       "</style>\n",
       "<table border=\"1\" class=\"dataframe\">\n",
       "  <thead>\n",
       "    <tr style=\"text-align: right;\">\n",
       "      <th></th>\n",
       "      <th>Open</th>\n",
       "      <th>retornos</th>\n",
       "      <th>ganancias</th>\n",
       "    </tr>\n",
       "    <tr>\n",
       "      <th>Date</th>\n",
       "      <th></th>\n",
       "      <th></th>\n",
       "      <th></th>\n",
       "    </tr>\n",
       "  </thead>\n",
       "  <tbody>\n",
       "    <tr>\n",
       "      <th>2023-11-01</th>\n",
       "      <td>34648</td>\n",
       "      <td>0.285</td>\n",
       "      <td>39.803542</td>\n",
       "    </tr>\n",
       "    <tr>\n",
       "      <th>2023-12-01</th>\n",
       "      <td>37712</td>\n",
       "      <td>0.088</td>\n",
       "      <td>43.306254</td>\n",
       "    </tr>\n",
       "    <tr>\n",
       "      <th>2024-01-01</th>\n",
       "      <td>42272</td>\n",
       "      <td>0.121</td>\n",
       "      <td>48.546311</td>\n",
       "    </tr>\n",
       "    <tr>\n",
       "      <th>2024-02-01</th>\n",
       "      <td>42580</td>\n",
       "      <td>0.007</td>\n",
       "      <td>48.886135</td>\n",
       "    </tr>\n",
       "    <tr>\n",
       "      <th>2024-03-01</th>\n",
       "      <td>61157</td>\n",
       "      <td>0.436</td>\n",
       "      <td>70.200489</td>\n",
       "    </tr>\n",
       "  </tbody>\n",
       "</table>\n",
       "</div>"
      ],
      "text/plain": [
       "             Open  retornos  ganancias\n",
       "Date                                  \n",
       "2023-11-01  34648     0.285  39.803542\n",
       "2023-12-01  37712     0.088  43.306254\n",
       "2024-01-01  42272     0.121  48.546311\n",
       "2024-02-01  42580     0.007  48.886135\n",
       "2024-03-01  61157     0.436  70.200489"
      ]
     },
     "execution_count": 165,
     "metadata": {},
     "output_type": "execute_result"
    }
   ],
   "source": [
    "btc_sin_up_down ['ganancias'] = (1 + btc_sin_up_down['retornos']).cumprod()\n",
    "\n",
    "btc_sin_up_down.tail ()"
   ]
  },
  {
   "cell_type": "code",
   "execution_count": null,
   "metadata": {},
   "outputs": [],
   "source": []
  }
 ],
 "metadata": {
  "kernelspec": {
   "display_name": "Python 3",
   "language": "python",
   "name": "python3"
  },
  "language_info": {
   "codemirror_mode": {
    "name": "ipython",
    "version": 3
   },
   "file_extension": ".py",
   "mimetype": "text/x-python",
   "name": "python",
   "nbconvert_exporter": "python",
   "pygments_lexer": "ipython3",
   "version": "3.10.11"
  }
 },
 "nbformat": 4,
 "nbformat_minor": 2
}
