{
 "cells": [
  {
   "cell_type": "code",
   "execution_count": null,
   "metadata": {},
   "outputs": [],
   "source": [
    "def procesar_columna(df, columna):\n",
    "    # Reemplazar los puntos por el símbolo '+' en la columna seleccionada\n",
    "    df[columna] = df[columna].str.replace(',', '')\n",
    "    # Reemplazar las comas por puntos en la columna seleccionada\n",
    "    df[columna] = df[columna].str.replace('.', ',')\n",
    "    \n",
    "    df[columna] = df[columna].astype(float)\n",
    "  \n",
    "    return df"
   ]
  },
  {
   "cell_type": "code",
   "execution_count": null,
   "metadata": {},
   "outputs": [],
   "source": [
    "def convertir_columna_a_entero(df, columna):\n",
    "  \n",
    "    # Elimina los puntos decimales de la columna\n",
    "    df[columna] = df[columna].str.replace('.', '')\n",
    "    df[columna] = df[columna].str.replace(',', '')\n",
    "    # Convierte la columna a tipo entero\n",
    "    df[columna] = df[columna].astype(int)\n",
    "\n",
    "    return df\n",
    "\n"
   ]
  },
  {
   "cell_type": "code",
   "execution_count": null,
   "metadata": {},
   "outputs": [],
   "source": [
    "pd.set_option('display.max_rows', None)\n",
    "pd.set_option('display.max_columns', None)\n",
    "\n",
    "# Muestra el DataFrame completo\n",
    "print(btc_meskop)"
   ]
  }
 ],
 "metadata": {
  "language_info": {
   "name": "python"
  }
 },
 "nbformat": 4,
 "nbformat_minor": 2
}
